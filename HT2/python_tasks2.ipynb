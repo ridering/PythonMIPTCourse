{
 "cells": [
  {
   "cell_type": "code",
   "execution_count": null,
   "metadata": {},
   "outputs": [],
   "source": [
    "while x := list(map(int, input().split())):\n",
    "    print(x[0] + x[1])"
   ]
  },
  {
   "cell_type": "code",
   "execution_count": 21,
   "metadata": {},
   "outputs": [
    {
     "name": "stdout",
     "output_type": "stream",
     "text": [
      "*  1  *  2  *  \n",
      "3  *  4  *  5  \n",
      "*  6  *  7  *  \n",
      "8  *  9  *  10 \n",
      "*  11 *  12 *\n"
     ]
    }
   ],
   "source": [
    "a = 12\n",
    "s = 0\n",
    "max_s = 5\n",
    "for i in range(a):\n",
    "    print('*  ', end='')\n",
    "    s += 1\n",
    "\n",
    "    if s == max_s:\n",
    "        s = 0\n",
    "        print()\n",
    "\n",
    "    print(f'{i+1:<3}', end='')\n",
    "    s += 1\n",
    "\n",
    "    if s == max_s:\n",
    "        s = 0\n",
    "        print()\n",
    "\n",
    "print('*')"
   ]
  },
  {
   "cell_type": "code",
   "execution_count": null,
   "metadata": {},
   "outputs": [],
   "source": [
    "# Hope that number is integer :)\n",
    "\n",
    "a, b = map(int, input().split())\n",
    "c = None\n",
    "\n",
    "while a <= b:\n",
    "    c = (a + b) // 2\n",
    "    x = input(f'Ваше число меньше либо равно {c}? : y/n') == 'y'\n",
    "    if x:\n",
    "        b = c - 1\n",
    "    else:\n",
    "        a = c + 1\n",
    "\n",
    "print('Ваше число равно:', c)"
   ]
  },
  {
   "cell_type": "code",
   "execution_count": null,
   "metadata": {},
   "outputs": [],
   "source": [
    "x_max = -1\n",
    "\n",
    "while (x := int(input())) != 0:\n",
    "    if x > x_max:\n",
    "        x_max = x\n",
    "\n",
    "print(x_max)"
   ]
  },
  {
   "cell_type": "code",
   "execution_count": 59,
   "metadata": {},
   "outputs": [
    {
     "name": "stdout",
     "output_type": "stream",
     "text": [
      "   |   1   2   3   4   5   6   7   8   9\n",
      " ----------------------------------------\n",
      " 1 |   1   2   3   4   5   6   7   8   9\n",
      " 2 |   2   4   6   8  10  12  14  16  18\n",
      " 3 |   3   6   9  12  15  18  21  24  27\n",
      " 4 |   4   8  12  16  20  24  28  32  36\n",
      " 5 |   5  10  15  20  25  30  35  40  45\n",
      " 6 |   6  12  18  24  30  36  42  48  54\n",
      " 7 |   7  14  21  28  35  42  49  56  63\n",
      " 8 |   8  16  24  32  40  48  56  64  72\n",
      " 9 |   9  18  27  36  45  54  63  72  81\n"
     ]
    }
   ],
   "source": [
    "print('   |', end='')\n",
    "for i in range(1, 10):\n",
    "    print(f'{i:4}', end='')\n",
    "print('\\n', '-' * 40)\n",
    "\n",
    "for i in range(1, 10):\n",
    "    print(f'{i:^3}|', end='')\n",
    "    for j in range(1, 10):\n",
    "        print(f'{i * j:4}', end='')\n",
    "    print()"
   ]
  },
  {
   "cell_type": "code",
   "execution_count": 143,
   "metadata": {},
   "outputs": [
    {
     "name": "stdout",
     "output_type": "stream",
     "text": [
      "Arr: 101.05 45.14 197.84 43.95 149.29 176.19 117.33 -107.24 -58.96 83.27 -14.86\n",
      "Min: -107.24\n",
      "Max: 197.84\n",
      "Median: 83.27\n"
     ]
    }
   ],
   "source": [
    "import random\n",
    "\n",
    "l = random.randint(1, 100)\n",
    "arr = [random.gauss(0, 100) for _ in range(l)]\n",
    "\n",
    "print('Arr:', *[f'{elem:.2f}' for elem in arr])\n",
    "print(f'Min: {min(arr):.2f}')\n",
    "print(f'Max: {max(arr):.2f}')\n",
    "print(f'Median: {sorted(arr)[l // 2]:.2f}')"
   ]
  },
  {
   "cell_type": "code",
   "execution_count": 99,
   "metadata": {},
   "outputs": [
    {
     "name": "stdout",
     "output_type": "stream",
     "text": [
      "[ 0: 9]: o\n",
      "[10:19]: ooo\n",
      "[20:29]: o\n",
      "[30:39]: ooooo\n",
      "[40:49]: ooo\n",
      "[50:59]: oo\n",
      "[60:69]: oo\n",
      "[70:79]: o\n",
      "[80:89]: o\n",
      "[90:99]: o\n",
      "\n",
      "[ 0: 9]: 0.05\n",
      "[10:19]: 0.15\n",
      "[20:29]: 0.05\n",
      "[30:39]: 0.25\n",
      "[40:49]: 0.15\n",
      "[50:59]: 0.1\n",
      "[60:69]: 0.1\n",
      "[70:79]: 0.05\n",
      "[80:89]: 0.05\n",
      "[90:99]: 0.05\n"
     ]
    }
   ],
   "source": [
    "import random\n",
    "\n",
    "arr = [random.randint(0, 100) for _ in range(20)]\n",
    "\n",
    "count = [0] * 10\n",
    "\n",
    "for elem in arr:\n",
    "    count[elem // 10] += 1\n",
    "\n",
    "for i, elem in enumerate(count):\n",
    "    print(f'[{10 * i:2}:{10 * i + 9:2}]: ', end='')\n",
    "    print('o' * elem)\n",
    "print()\n",
    "\n",
    "for i, elem in enumerate(count):\n",
    "    print(f'[{10 * i:2}:{10 * i + 9:2}]: {elem / 20}')"
   ]
  },
  {
   "cell_type": "code",
   "execution_count": 145,
   "metadata": {},
   "outputs": [
    {
     "name": "stdout",
     "output_type": "stream",
     "text": [
      "Dimension: 12\n",
      "Arr1: [   32.92   98.20  209.65  -30.29  125.42 -158.18   94.79  -51.17   22.97  300.08  132.61   72.76]\n",
      "Arr2: [  239.51   40.64  -83.45   11.53 -103.93   -6.87    9.79 -141.28  -64.34  -25.62   -4.69   51.55]\n",
      "Component-wise sum: [  272.43  138.85  126.20  -18.76   21.49 -165.05  104.57 -192.45  -41.37  274.46  127.92  124.31]\n",
      "Component-wise prod: [   7884.48   3991.30 -17495.05   -349.24 -13035.12   1087.04    927.78   7228.91  -1478.26  -7688.54   -621.94   3750.56]\n",
      "Scalar: -7.4\n",
      "Result: [   -243.60   -726.69  -1551.38    224.15   -928.11   1170.51   -701.42    378.64   -170.01  -2220.59   -981.33   -538.40]\n"
     ]
    }
   ],
   "source": [
    "import random\n",
    "\n",
    "n = int(input('Введите размерность векторов: '))\n",
    "arr1 = [random.gauss(50, 100) for _ in range(n)]\n",
    "arr2 = [random.gauss(-20, 100) for _ in range(n)]\n",
    "\n",
    "sums = []\n",
    "prods = []\n",
    "norm1, norm2 = 0, 0\n",
    "\n",
    "for elem1, elem2 in zip(arr1, arr2):\n",
    "    sums.append(elem1 + elem2)\n",
    "    prods.append(elem1 * elem2)\n",
    "\n",
    "    norm1 += elem1 ** 2\n",
    "    norm2 += elem2 ** 2\n",
    "\n",
    "vec = arr1 if norm1 > norm2 else arr2\n",
    "x = float(input('Введите скаляр: '))\n",
    "\n",
    "res = []\n",
    "for elem in vec:\n",
    "    res.append(elem * x)\n",
    "\n",
    "\n",
    "def print_round(arr, *comment, pattern: str = '8.2f'):\n",
    "    print(*comment, '[', end='')\n",
    "    for elem in arr:\n",
    "        print(f'{{:{pattern}}}'.format(elem), end='')\n",
    "    print(']')\n",
    "\n",
    "print('Dimension:', n)\n",
    "print_round(arr1, 'Arr1:')\n",
    "print_round(arr2, 'Arr2:')\n",
    "print_round(sums, 'Component-wise sum:')\n",
    "print_round(prods, 'Component-wise prod:', pattern='10.2f')\n",
    "print('Scalar:', x)\n",
    "print_round(res, 'Result:', pattern='10.2f')"
   ]
  },
  {
   "cell_type": "code",
   "execution_count": 159,
   "metadata": {},
   "outputs": [
    {
     "name": "stdout",
     "output_type": "stream",
     "text": [
      "A=\n",
      "|  -1.277   0.302   2.040  -1.168  -0.671  -0.384  -2.644|\n",
      "|   1.699  -0.037  -0.209   0.441  -0.290   0.592  -1.041|\n",
      "|   0.401   0.139   0.493   0.008   1.331   0.576  -2.756|\n",
      "|   0.337   0.596   1.202  -1.252  -1.037  -1.807   1.939|\n",
      "|   1.510   1.612  -0.452   2.164   0.309  -0.769  -0.193|\n",
      "|   2.209  -0.090  -1.103  -0.451  -1.179  -0.642  -0.592|\n",
      "|  -0.457  -0.151   0.869  -1.323  -0.247  -0.038  -1.311|\n",
      "|  -1.744   0.074   0.857   0.517   3.017  -1.075   1.894|\n",
      "\n",
      "x=\n",
      "|   0.746|\n",
      "|   0.390|\n",
      "|  -2.241|\n",
      "|  -0.271|\n",
      "|  -0.081|\n",
      "|   1.372|\n",
      "|  -0.216|\n",
      "\n",
      "A*x=\n",
      "|  -4.992|\n",
      "|   2.664|\n",
      "|   0.525|\n",
      "|  -4.687|\n",
      "|   1.144|\n",
      "|   3.548|\n",
      "|  -1.737|\n",
      "|  -5.461|\n",
      "\n"
     ]
    }
   ],
   "source": [
    "import random\n",
    "\n",
    "n = random.randint(1, 10)\n",
    "m = random.randint(1, 10)\n",
    "\n",
    "A = [[random.gauss(0, 1) for _ in range(m)] for _ in range(n)]\n",
    "x = [random.gauss(0, 1) for _ in range(m)]\n",
    "\n",
    "def multiply(A, x):\n",
    "    b = [0.0] * len(A)\n",
    "    for i, row in enumerate(A):\n",
    "        for j, elem in enumerate(row):\n",
    "            b[i] += x[j] * elem\n",
    "    return b\n",
    "\n",
    "def print_matrix(A):\n",
    "    for i, row in enumerate(A):\n",
    "        print('|', end='')\n",
    "        if type(row) == list:\n",
    "            for j, elem in enumerate(row):\n",
    "                print(f'{elem:8.3f}', end='')\n",
    "        else:\n",
    "            print(f'{row:8.3f}', end='')\n",
    "        print('|')\n",
    "    print()\n",
    "\n",
    "\n",
    "print('A=')\n",
    "print_matrix(A)\n",
    "\n",
    "print('x=')\n",
    "print_matrix(x)\n",
    "\n",
    "print('A*x=')\n",
    "print_matrix(multiply(A, x))"
   ]
  },
  {
   "cell_type": "code",
   "execution_count": 114,
   "metadata": {},
   "outputs": [
    {
     "name": "stdout",
     "output_type": "stream",
     "text": [
      "[    1.35    1.73   -0.11    1.85    1.59   -0.06   -0.81   -0.70    0.78    1.40]\n",
      "[    1.35    1.73    1.79    1.85    1.59    1.19    1.19    1.19    0.78    1.40]\n"
     ]
    }
   ],
   "source": [
    "import random\n",
    "\n",
    "n = random.randint(3, 10)\n",
    "arr = [random.gauss(1, 1) for _ in range(n)]\n",
    "\n",
    "\n",
    "def print_round(arr, *comment, pattern: str = '8.2f'):\n",
    "    print(*comment, '[', end='')\n",
    "    for elem in arr:\n",
    "        print(f'{{:{pattern}}}'.format(elem), end='')\n",
    "    print(']')\n",
    "\n",
    "\n",
    "print_round(arr)\n",
    "\n",
    "if arr[0] > 0 and arr[-1] > 0:\n",
    "    left_positive_idx = 0\n",
    "\n",
    "    for i in range(1, len(arr)):\n",
    "        if arr[i] > 0:\n",
    "            if i - left_positive_idx > 1:\n",
    "                for j in range(left_positive_idx + 1, i):\n",
    "                    arr[j] = (arr[left_positive_idx] + arr[i]) / 2\n",
    "\n",
    "            left_positive_idx = i\n",
    "\n",
    "    print_round(arr)\n",
    "else:\n",
    "    print('Невозможно выполнить задачу')"
   ]
  },
  {
   "cell_type": "code",
   "execution_count": 169,
   "metadata": {},
   "outputs": [
    {
     "name": "stdout",
     "output_type": "stream",
     "text": [
      "[1, 4, 3, 7, 6, 8, 5, 9]\n",
      "[1, -2, 1]\n",
      "[-4, 5, -5, 3, -5, 7]\n"
     ]
    }
   ],
   "source": [
    "import random\n",
    "\n",
    "\n",
    "def convolve(data, kernel):\n",
    "    assert len(kernel) <= len(data)\n",
    "\n",
    "    res = [0] * (len(data) - len(kernel) + 1)\n",
    "    for i in range(len(res)):\n",
    "        for j in range(len(kernel)):\n",
    "            res[i] += data[i + j] * kernel[j]\n",
    "\n",
    "    return res\n",
    "\n",
    "\n",
    "# arr = [random.randint(-100, 100) for _ in range(random.randint(1, 100))]\n",
    "# kernel = [random.randint(-100, 100) for _ in range(random.randint(1, len(arr)))]\n",
    "\n",
    "arr = [1, 4, 3, 7, 6, 8, 5, 9]\n",
    "kernel = [1, -2, 1]\n",
    "print(arr)\n",
    "print(kernel)\n",
    "\n",
    "print(convolve(arr, kernel))"
   ]
  }
 ],
 "metadata": {
  "kernelspec": {
   "display_name": "tf_env",
   "language": "python",
   "name": "python3"
  },
  "language_info": {
   "codemirror_mode": {
    "name": "ipython",
    "version": 3
   },
   "file_extension": ".py",
   "mimetype": "text/x-python",
   "name": "python",
   "nbconvert_exporter": "python",
   "pygments_lexer": "ipython3",
   "version": "3.10.14"
  }
 },
 "nbformat": 4,
 "nbformat_minor": 2
}
