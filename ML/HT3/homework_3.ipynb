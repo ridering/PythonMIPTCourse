{
 "cells": [
  {
   "cell_type": "code",
   "execution_count": 1,
   "metadata": {},
   "outputs": [],
   "source": [
    "import os\n",
    "import random\n",
    "import numpy as np\n",
    "import cv2\n",
    "from sklearn.neighbors import KNeighborsClassifier\n",
    "import re\n",
    "from typing import List, Tuple, Dict\n",
    "import matplotlib.pyplot as plt\n",
    "from tqdm import tqdm\n",
    "from PIL import Image"
   ]
  },
  {
   "cell_type": "code",
   "execution_count": 2,
   "metadata": {},
   "outputs": [],
   "source": [
    "class DataManager:\n",
    "    def __init__(self, data_path: str, n_samples: int = 2000):\n",
    "        self.data_path = data_path\n",
    "        self.n_samples = n_samples\n",
    "        self.classes = self._get_classes()\n",
    "        self.images = self._load_images()\n",
    "        \n",
    "    def _get_classes(self) -> List[str]:\n",
    "        \"\"\"Получение списка классов (символов) из директории данных\"\"\"\n",
    "        return [d for d in os.listdir(self.data_path) if os.path.isdir(os.path.join(self.data_path, d))]\n",
    "    \n",
    "    def _load_images(self) -> Dict[str, List[np.ndarray]]:\n",
    "        \"\"\"Загрузка изображений для каждого класса\"\"\"\n",
    "        images = {}\n",
    "        for class_name in self.classes:\n",
    "            class_path = os.path.join(self.data_path, class_name)\n",
    "            images[class_name] = []\n",
    "            pbar = tqdm(os.listdir(class_path)[:self.n_samples])\n",
    "            pbar.set_description(f\"Loading {class_name} images\")\n",
    "            images[class_name] = [cv2.imread(os.path.join(class_path, img_name), cv2.IMREAD_GRAYSCALE) \n",
    "                                for img_name in pbar]\n",
    "        return images\n",
    "    \n",
    "    def get_random_image(self, class_name: str) -> np.ndarray:\n",
    "        \"\"\"Получение случайного изображения для заданного класса\"\"\"\n",
    "        return random.choice(self.images[class_name])\n",
    "    \n",
    "    def get_training_data(self) -> Tuple[np.ndarray, np.ndarray]:\n",
    "        \"\"\"Подготовка обучающих данных\"\"\"\n",
    "        X = []\n",
    "        y = []\n",
    "        \n",
    "        for class_name, class_images in self.images.items():\n",
    "            images = [img.flatten() for img in class_images]\n",
    "            X.extend(images)\n",
    "            y.extend([class_name] * len(images))\n",
    "        \n",
    "        return np.array(X), np.array(y)"
   ]
  },
  {
   "cell_type": "code",
   "execution_count": 3,
   "metadata": {},
   "outputs": [],
   "source": [
    "class ExpressionGenerator:\n",
    "    def __init__(self, data_manager: DataManager):\n",
    "        self.data_manager = data_manager\n",
    "        \n",
    "    def generate_sequence(self) -> Tuple[List[str], List[np.ndarray]]:\n",
    "        \"\"\"Генерация последовательности символов и соответствующих изображений\"\"\"\n",
    "        # Генерация структуры выражения\n",
    "        has_open_bracket = random.choice([True, False])\n",
    "        has_close_bracket = random.choice([True, False])\n",
    "        \n",
    "        sequence = []\n",
    "        images = []\n",
    "        \n",
    "        if has_open_bracket:\n",
    "            sequence.append('(')\n",
    "            images.append(self.data_manager.get_random_image('('))\n",
    "        \n",
    "        # Первый операнд\n",
    "        first_operand = random.choice(['0', '1', '2', '3', '4', '5', '6', '7', '8', '9', 'X', 'y'])\n",
    "        sequence.append(first_operand)\n",
    "        images.append(self.data_manager.get_random_image(first_operand))\n",
    "        \n",
    "        # Операция\n",
    "        operation = random.choice(['+', '-', 'times'])\n",
    "        sequence.append(operation)\n",
    "        images.append(self.data_manager.get_random_image(operation))\n",
    "        \n",
    "        # Второй операнд\n",
    "        second_operand = random.choice(['0', '1', '2', '3', '4', '5', '6', '7', '8', '9', 'X', 'y'])\n",
    "        sequence.append(second_operand)\n",
    "        images.append(self.data_manager.get_random_image(second_operand))\n",
    "        \n",
    "        if has_close_bracket:\n",
    "            sequence.append(')')\n",
    "            images.append(self.data_manager.get_random_image(')'))\n",
    "            \n",
    "        return sequence, images"
   ]
  },
  {
   "cell_type": "code",
   "execution_count": 4,
   "metadata": {},
   "outputs": [],
   "source": [
    "class ExpressionClassifier:\n",
    "    def __init__(self, data_manager: DataManager):\n",
    "        self.data_manager = data_manager\n",
    "        self.classifier = KNeighborsClassifier(n_neighbors=5)\n",
    "        self.train_data = self.data_manager.get_training_data()\n",
    "        \n",
    "    def train(self):\n",
    "        \"\"\"Обучение классификатора\"\"\"\n",
    "        X, y = self.train_data\n",
    "        self.classifier.fit(X, y)\n",
    "    \n",
    "    def predict(self, images: List[np.ndarray]) -> List[str]:\n",
    "        \"\"\"Предсказание классов для последовательности изображений\"\"\"\n",
    "        X = np.array([img.flatten() for img in images])\n",
    "        return list(self.classifier.predict(X))"
   ]
  },
  {
   "cell_type": "code",
   "execution_count": 28,
   "metadata": {},
   "outputs": [],
   "source": [
    "class ExpressionValidator:\n",
    "    @staticmethod\n",
    "    def validate_expression(sequence: List[str]) -> bool:\n",
    "        \"\"\"Проверка корректности выражения\"\"\"\n",
    "        expr = ''.join(sequence)\n",
    "        pattern = r'^\\(?[0-9xy]([+\\-]|times)?[0-9xy]\\)?$'\n",
    "        return bool(re.match(pattern, expr))\n",
    "    \n",
    "    @staticmethod\n",
    "    def evaluate_expression(sequence: List[str], x: float = 0.0, y: float = 0.0) -> float:\n",
    "        \"\"\"Вычисление значения выражения\"\"\"\n",
    "        expr = ''.join(sequence)\n",
    "        expr = expr.replace('times', '*')\n",
    "        \n",
    "        if x is not None:\n",
    "            expr = expr.replace('x', str(x))\n",
    "        if y is not None:\n",
    "            expr = expr.replace('y', str(y))\n",
    "            \n",
    "        return eval(expr)"
   ]
  },
  {
   "cell_type": "code",
   "execution_count": 6,
   "metadata": {},
   "outputs": [],
   "source": [
    "class ImageEncoder:\n",
    "    def __init__(self, patch_size: int = 8):\n",
    "        self.patch_size = patch_size\n",
    "        \n",
    "    def encode_image(self, image: np.ndarray) -> str:\n",
    "        \"\"\"Кодирование изображения в бинарную строку\"\"\"\n",
    "        height, width = image.shape\n",
    "        patches_h = height // self.patch_size\n",
    "        patches_w = width // self.patch_size\n",
    "        \n",
    "        encoded = []\n",
    "        for i in range(patches_h):\n",
    "            for j in range(patches_w):\n",
    "                patch = image[i*self.patch_size:(i+1)*self.patch_size, \n",
    "                            j*self.patch_size:(j+1)*self.patch_size]\n",
    "                # Если в патче есть хотя бы один ненулевой пиксель\n",
    "                encoded.append('1' if np.any(patch == 0) else '0')\n",
    "                \n",
    "        return ''.join(encoded)\n",
    "    \n",
    "    def count_isolated_cells(self, encoded: str) -> int:\n",
    "        \"\"\"Подсчет количества изолированных клеток\"\"\"\n",
    "        pattern = r'010'\n",
    "        return len(re.findall(pattern, encoded))\n",
    "    \n",
    "    def visualize_isolated_cells(self, image: np.ndarray, encoded: str) -> np.ndarray:\n",
    "        \"\"\"Визуализация изолированных клеток на изображении\"\"\"\n",
    "        height, width = image.shape\n",
    "        patches_h = height // self.patch_size\n",
    "        patches_w = width // self.patch_size\n",
    "        \n",
    "        # Создаем цветное изображение для визуализации\n",
    "        # vis_image = cv2.cvtColor(image, cv2.COLOR_GRAY2BGR)\n",
    "        vis_image = image.copy()\n",
    "        \n",
    "        # Находим все изолированные клетки\n",
    "        isolated_indices = []\n",
    "        for match in re.finditer(r'010', encoded):\n",
    "            isolated_indices.append(match.start() + 1)  # +1 потому что нам нужна средняя клетка\n",
    "        \n",
    "        # Выделяем изолированные клетки\n",
    "        for idx in isolated_indices:\n",
    "            i = idx // patches_w\n",
    "            j = idx % patches_w\n",
    "            \n",
    "            # Рисуем прямоугольник вокруг изолированной клетки\n",
    "            pt1 = (j * self.patch_size, i * self.patch_size)\n",
    "            pt2 = ((j + 1) * self.patch_size, (i + 1) * self.patch_size)\n",
    "            cv2.rectangle(vis_image, pt1, pt2, (128,), 1)\n",
    "        \n",
    "        return vis_image"
   ]
  },
  {
   "cell_type": "code",
   "execution_count": 7,
   "metadata": {},
   "outputs": [
    {
     "name": "stderr",
     "output_type": "stream",
     "text": [
      "Loading ( images: 100%|██████████| 14293/14293 [00:01<00:00, 11918.72it/s]\n",
      "Loading ) images: 100%|██████████| 14354/14354 [00:01<00:00, 11948.89it/s]\n",
      "Loading + images: 100%|██████████| 25111/25111 [00:02<00:00, 11941.44it/s]\n",
      "Loading , images: 100%|██████████| 1905/1905 [00:00<00:00, 11764.91it/s]\n",
      "Loading - images: 100%|██████████| 33996/33996 [00:02<00:00, 12072.77it/s]\n",
      "Loading 0 images: 100%|██████████| 6913/6913 [00:00<00:00, 11853.04it/s]\n",
      "Loading 1 images: 100%|██████████| 26519/26519 [00:02<00:00, 11943.91it/s]\n",
      "Loading 2 images: 100%|██████████| 26140/26140 [00:02<00:00, 11681.00it/s]\n",
      "Loading 3 images: 100%|██████████| 10908/10908 [00:00<00:00, 11735.08it/s]\n",
      "Loading 4 images: 100%|██████████| 7395/7395 [00:00<00:00, 11653.38it/s]\n",
      "Loading 5 images: 100%|██████████| 3544/3544 [00:00<00:00, 11436.73it/s]\n",
      "Loading 6 images: 100%|██████████| 3117/3117 [00:00<00:00, 11671.41it/s]\n",
      "Loading 7 images: 100%|██████████| 2908/2908 [00:00<00:00, 12084.94it/s]\n",
      "Loading 8 images: 100%|██████████| 3067/3067 [00:00<00:00, 11794.40it/s]\n",
      "Loading 9 images: 100%|██████████| 627/627 [00:00<00:00, 11471.24it/s]\n",
      "Loading h images: 100%|██████████| 1463/1463 [00:00<00:00, 11297.24it/s]\n",
      "Loading t images: 100%|██████████| 3273/3273 [00:00<00:00, 10890.99it/s]\n",
      "Loading times images: 100%|██████████| 3250/3250 [00:00<00:00, 11873.57it/s]\n",
      "Loading w images: 100%|██████████| 555/555 [00:00<00:00, 11053.10it/s]\n",
      "Loading X images: 100%|██████████| 26593/26593 [00:02<00:00, 11480.30it/s]\n",
      "Loading y images: 100%|██████████| 9339/9339 [00:00<00:00, 11861.47it/s]\n"
     ]
    }
   ],
   "source": [
    "data_path = \"dataset\"\n",
    "\n",
    "# Создаем общий менеджер данных\n",
    "data_manager = DataManager(data_path, n_samples=-1)\n",
    "\n",
    "# Инициализируем компоненты с общим менеджером данных\n",
    "generator = ExpressionGenerator(data_manager)\n",
    "classifier = ExpressionClassifier(data_manager)\n",
    "validator = ExpressionValidator()\n",
    "encoder = ImageEncoder()"
   ]
  },
  {
   "cell_type": "code",
   "execution_count": 31,
   "metadata": {},
   "outputs": [
    {
     "name": "stdout",
     "output_type": "stream",
     "text": [
      "Сгенерированная последовательность: ['(', '9', 'times', 'y', ')']\n",
      "Предсказанные символы: ['(', '3', 'times', 'y', ')']\n",
      "Выражение корректно\n",
      "x=0.00, y=0.00: 0.00\n",
      "x=0.00, y=0.25: 0.75\n",
      "x=0.00, y=0.50: 1.50\n",
      "x=0.00, y=0.75: 2.25\n",
      "x=0.00, y=1.00: 3.00\n",
      "x=0.25, y=0.00: 0.00\n",
      "x=0.25, y=0.25: 0.75\n",
      "x=0.25, y=0.50: 1.50\n",
      "x=0.25, y=0.75: 2.25\n",
      "x=0.25, y=1.00: 3.00\n",
      "x=0.50, y=0.00: 0.00\n",
      "x=0.50, y=0.25: 0.75\n",
      "x=0.50, y=0.50: 1.50\n",
      "x=0.50, y=0.75: 2.25\n",
      "x=0.50, y=1.00: 3.00\n",
      "x=0.75, y=0.00: 0.00\n",
      "x=0.75, y=0.25: 0.75\n",
      "x=0.75, y=0.50: 1.50\n",
      "x=0.75, y=0.75: 2.25\n",
      "x=0.75, y=1.00: 3.00\n",
      "x=1.00, y=0.00: 0.00\n",
      "x=1.00, y=0.25: 0.75\n",
      "x=1.00, y=0.50: 1.50\n",
      "x=1.00, y=0.75: 2.25\n",
      "x=1.00, y=1.00: 3.00\n"
     ]
    }
   ],
   "source": [
    "sequence, images = generator.generate_sequence()\n",
    "print(\"Сгенерированная последовательность:\", sequence)\n",
    "\n",
    "classifier.train()\n",
    "predicted = classifier.predict(images)\n",
    "print(\"Предсказанные символы:\", predicted)\n",
    "\n",
    "if validator.validate_expression(predicted):\n",
    "    print(\"Выражение корректно\")\n",
    "    # Вычисление для разных значений x и y\n",
    "    for x in np.linspace(0, 1, 5):\n",
    "        for y in np.linspace(0, 1, 5):\n",
    "            result = validator.evaluate_expression(predicted, x, y)\n",
    "            print(f\"x={x:.2f}, y={y:.2f}: {result:.2f}\")\n",
    "else:\n",
    "    print(\"Выражение некорректно\")"
   ]
  },
  {
   "cell_type": "code",
   "execution_count": 32,
   "metadata": {},
   "outputs": [
    {
     "data": {
      "image/png": "[encoded data removed]",
      "text/plain": [
       "<Figure size 1000x500 with 1 Axes>"
      ]
     },
     "metadata": {},
     "output_type": "display_data"
    }
   ],
   "source": [
    "# Treshold\n",
    "image = np.concatenate(images, axis=1)\n",
    "image = np.where(image > 128, 255, 0)\n",
    "\n",
    "# Визуализация исходного изображения\n",
    "plt.figure(figsize=(10, 5))\n",
    "plt.imshow(image, cmap='gray')\n",
    "plt.title('Исходное изображение')\n",
    "plt.show()"
   ]
  },
  {
   "cell_type": "code",
   "execution_count": 33,
   "metadata": {},
   "outputs": [
    {
     "name": "stdout",
     "output_type": "stream",
     "text": [
      "\n",
      "Количество изолированных клеток: 17\n"
     ]
    },
    {
     "data": {
      "image/png": "[encoded data removed]",
      "text/plain": [
       "<Figure size 1000x500 with 1 Axes>"
      ]
     },
     "metadata": {},
     "output_type": "display_data"
    }
   ],
   "source": [
    "# Кодирование и визуализация изолированных клеток\n",
    "encoded = encoder.encode_image(image)\n",
    "isolated_cells = encoder.count_isolated_cells(encoded)\n",
    "print(\"\\nКоличество изолированных клеток:\", isolated_cells)\n",
    "\n",
    "# Визуализация изолированных клеток\n",
    "vis_image = encoder.visualize_isolated_cells(image, encoded)\n",
    "\n",
    "plt.figure(figsize=(10, 5))\n",
    "plt.imshow(vis_image, cmap='gray')\n",
    "plt.title(f'Изолированные клетки (найдено: {isolated_cells})')\n",
    "plt.show()"
   ]
  }
 ],
 "metadata": {
  "kernelspec": {
   "display_name": ".venv_torch_actual",
   "language": "python",
   "name": "python3"
  },
  "language_info": {
   "codemirror_mode": {
    "name": "ipython",
    "version": 3
   },
   "file_extension": ".py",
   "mimetype": "text/x-python",
   "name": "python",
   "nbconvert_exporter": "python",
   "pygments_lexer": "ipython3",
   "version": "3.10.11"
  }
 },
 "nbformat": 4,
 "nbformat_minor": 2
}
